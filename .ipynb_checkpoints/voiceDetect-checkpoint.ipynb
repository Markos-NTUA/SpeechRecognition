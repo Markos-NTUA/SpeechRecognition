{
 "cells": [
  {
   "cell_type": "code",
   "execution_count": 1,
   "metadata": {},
   "outputs": [],
   "source": [
    "import pyaudio\n",
    "import wave\n",
    "import numpy as np\n",
    "import matplotlib.pyplot as plt\n",
    "import seaborn; seaborn.set_style('whitegrid')\n",
    "import time\n",
    "from pdb import set_trace\n",
    "from scipy import signal\n",
    "import librosa as lbr\n",
    "import librosa.display"
   ]
  },
  {
   "cell_type": "code",
   "execution_count": 24,
   "metadata": {},
   "outputs": [
    {
     "name": "stdout",
     "output_type": "stream",
     "text": [
      "avg read time/chunk:  0.12882791421352288\n"
     ]
    }
   ],
   "source": [
    "FORMAT = pyaudio.paInt16\n",
    "CHANNELS = 1\n",
    "Fs = 8000\n",
    "CHUNK = 1024\n",
    "REC_TIME = 15 #sec\n",
    "audio = pyaudio.PyAudio()\n",
    "# start Recording\n",
    "stream = audio.open(format=FORMAT, channels=CHANNELS,\n",
    "                rate=Fs, input=True,\n",
    "                frames_per_buffer=CHUNK)\n",
    "i=0\n",
    "data = stream.read(CHUNK)  \n",
    "data_int = decoded = np.frombuffer(data, np.int16);\n",
    "voice=data_int\n",
    "idx=0\n",
    "acc=0\n",
    "while True:\n",
    "    idx+=1\n",
    "    \n",
    "    start=time.time()\n",
    "    data = stream.read(CHUNK)  \n",
    "    acc+=time.time()-start\n",
    "    decoded = np.frombuffer(data, np.int16);\n",
    "    voice=np.concatenate((voice,decoded))\n",
    "    i+=1\n",
    "    if(i == int(REC_TIME*Fs/CHUNK)):\n",
    "        break\n",
    "        \n",
    "voice = voice[int(0.5*Fs):-1]\n",
    "print('avg read time/chunk: ',acc/idx)\n",
    "N=voice.shape[0]"
   ]
  },
  {
   "cell_type": "code",
   "execution_count": 4,
   "metadata": {},
   "outputs": [],
   "source": [
    "from scipy.ndimage import grey_dilation\n",
    "from scipy.ndimage import grey_closing\n",
    "from scipy.ndimage import grey_erosion\n",
    "from scipy.ndimage import grey_opening"
   ]
  },
  {
   "cell_type": "code",
   "execution_count": 26,
   "metadata": {},
   "outputs": [
    {
     "name": "stderr",
     "output_type": "stream",
     "text": [
      "/home/markos/anaconda3/lib/python3.6/site-packages/ipykernel_launcher.py:13: RuntimeWarning: invalid value encountered in true_divide\n",
      "  del sys.path[0]\n"
     ]
    },
    {
     "data": {
      "text/plain": [
       "Text(0.5, 1.0, 'Signal with respect to filtered entropy')"
      ]
     },
     "execution_count": 26,
     "metadata": {},
     "output_type": "execute_result"
    }
   ],
   "source": [
    "S_WIND = int(0.01 * Fs)\n",
    "N_FFT=2048\n",
    "K=1\n",
    "%matplotlib tk\n",
    "\n",
    "#STFT\n",
    "f,t,stft=signal.stft(voice,fs=Fs,nperseg=S_WIND,noverlap=0,return_onesided=True)\n",
    "#Power spectrum probability\n",
    "S=np.abs(stft)**2 #Energy\n",
    "#filter energies not needed\n",
    "# S[np.logical_and(f<300,f>3000)] = 0\n",
    "\n",
    "P=np.divide(S,np.sum(S,axis=0))\n",
    "#Power spectrym entropy\n",
    "H=-np.multiply(P,np.log2(P)).sum(axis=0)/np.log2(P.shape[0])\n",
    "\n",
    "#Help distinguish with energy\n",
    "E = S.sum(axis=0)\n",
    "H = np.multiply(H,1-E/E.max())\n",
    "H_size = H.shape[0]\n",
    "\n",
    "plt.plot(np.array(range(N))/Fs,voice/voice.max())\n",
    "\n",
    "plt.plot(t,H)\n",
    "Hf = H\n",
    "# Hf = signal.order_filter(Hf,domain=np.ones(9),rank=0)\n",
    "# Hf=grey_opening(Hf,size=(3))\n",
    "Hf = signal.medfilt(Hf,kernel_size=7)\n",
    "Hf = grey_erosion(Hf,size=(6))\n",
    "plt.plot(t,Hf)\n",
    "plt.title('Signal with respect to filtered entropy')\n"
   ]
  }
 ],
 "metadata": {
  "kernelspec": {
   "display_name": "Python 3",
   "language": "python",
   "name": "python3"
  },
  "language_info": {
   "codemirror_mode": {
    "name": "ipython",
    "version": 3
   },
   "file_extension": ".py",
   "mimetype": "text/x-python",
   "name": "python",
   "nbconvert_exporter": "python",
   "pygments_lexer": "ipython3",
   "version": "3.6.5"
  }
 },
 "nbformat": 4,
 "nbformat_minor": 2
}
